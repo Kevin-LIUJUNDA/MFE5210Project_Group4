{
 "cells": [
  {
   "cell_type": "code",
   "execution_count": 29,
   "metadata": {},
   "outputs": [],
   "source": [
    "from database import get_database\n",
    "from constant import Exchange, Interval\n",
    "from datetime import datetime\n",
    "import numpy as np\n",
    "from cta_strategy.backtesting_engine import BacktestingEngine\n",
    "\n",
    "backtesting = BacktestingEngine()\n",
    "backtesting.set_parameters('rb2305.SHFE', Interval('tick'), datetime(2023,1,3), datetime(2023,1,7),rate=0.001, slippage=0.01, size=10, pricetick=1, capital=100000, risk_free=0.05)\n"
   ]
  },
  {
   "cell_type": "code",
   "execution_count": 26,
   "metadata": {},
   "outputs": [],
   "source": []
  },
  {
   "cell_type": "code",
   "execution_count": 27,
   "metadata": {},
   "outputs": [],
   "source": []
  },
  {
   "cell_type": "code",
   "execution_count": 31,
   "metadata": {},
   "outputs": [],
   "source": []
  },
  {
   "cell_type": "code",
   "execution_count": null,
   "metadata": {},
   "outputs": [],
   "source": []
  }
 ],
 "metadata": {
  "kernelspec": {
   "display_name": "quant_env",
   "language": "python",
   "name": "python3"
  },
  "language_info": {
   "codemirror_mode": {
    "name": "ipython",
    "version": 3
   },
   "file_extension": ".py",
   "mimetype": "text/x-python",
   "name": "python",
   "nbconvert_exporter": "python",
   "pygments_lexer": "ipython3",
   "version": "3.9.16"
  },
  "orig_nbformat": 4
 },
 "nbformat": 4,
 "nbformat_minor": 2
}
