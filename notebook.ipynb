{
 "cells": [
  {
   "cell_type": "code",
   "execution_count": 1,
   "metadata": {},
   "outputs": [],
   "source": [
    "import pandas as pd\n",
    "from datastructure.definition import CN_EXCHANGE_MAP"
   ]
  },
  {
   "cell_type": "code",
   "execution_count": 13,
   "metadata": {},
   "outputs": [],
   "source": [
    "raw_df = pd.read_csv('/home/tushetou/futures_information/instrumentlist_230418.csv', encoding='gbk')\n",
    "raw_df.columns = ['instrument', 'symbol', 'name', 'exchange', 'size', 'pricetick', 'product', 'delivery_date', 'margin_rate', 'commission']\n",
    "raw_df.drop(['instrument', 'name', 'product', 'delivery_date'], axis=1, inplace=True)\n",
    "raw_df['exchange'] = raw_df['exchange'].apply(lambda exchange: CN_EXCHANGE_MAP[exchange])\n",
    "raw_df = raw_df.loc[raw_df['margin_rate'] != '双击查询', :]\n",
    "raw_df['margin_rate'] = raw_df['margin_rate'].apply(lambda str_rate: int(str_rate.split('.')[0]) * 0.01)"
   ]
  },
  {
   "cell_type": "code",
   "execution_count": 19,
   "metadata": {},
   "outputs": [
    {
     "data": {
      "text/plain": [
       "'￥15.000'"
      ]
     },
     "execution_count": 19,
     "metadata": {},
     "output_type": "execute_result"
    }
   ],
   "source": [
    "raw_df['commission'][15]"
   ]
  },
  {
   "cell_type": "code",
   "execution_count": 3,
   "metadata": {},
   "outputs": [],
   "source": [
    "import numpy as np\n",
    "import random"
   ]
  },
  {
   "cell_type": "code",
   "execution_count": 4,
   "metadata": {},
   "outputs": [
    {
     "data": {
      "text/plain": [
       "0.2411828788179028"
      ]
     },
     "execution_count": 4,
     "metadata": {},
     "output_type": "execute_result"
    }
   ],
   "source": [
    "random.random()"
   ]
  },
  {
   "cell_type": "code",
   "execution_count": 8,
   "metadata": {},
   "outputs": [],
   "source": [
    "equity = []\n",
    "for i in range(10):\n",
    "    equity.append(1 + random.random())"
   ]
  },
  {
   "cell_type": "code",
   "execution_count": 9,
   "metadata": {},
   "outputs": [
    {
     "data": {
      "text/plain": [
       "[1.0800035113665372,\n",
       " 1.7972553311499166,\n",
       " 1.528138981838899,\n",
       " 1.604391220379993,\n",
       " 1.7173823866139002,\n",
       " 1.614267901462761,\n",
       " 1.849865350483828,\n",
       " 1.3860596387718291,\n",
       " 1.8247596064277078,\n",
       " 1.243669147732474]"
      ]
     },
     "execution_count": 9,
     "metadata": {},
     "output_type": "execute_result"
    }
   ],
   "source": [
    "equity"
   ]
  },
  {
   "cell_type": "code",
   "execution_count": 14,
   "metadata": {},
   "outputs": [],
   "source": [
    "hwm = [0] # High water mark -- 记录最高位\n",
    "drawdowm = []\n",
    "duration = [0]\n",
    "for t in range(10):\n",
    "    cur_hwm = max(hwm[t], equity[t])\n",
    "    hwm.append(cur_hwm)\n",
    "    drawdowm.append(hwm[t + 1] - equity[t])\n",
    "    duration.append(0 if drawdowm[t] == 0 else duration[t] + 1)\n"
   ]
  },
  {
   "cell_type": "code",
   "execution_count": 15,
   "metadata": {},
   "outputs": [
    {
     "data": {
      "text/plain": [
       "[0.0,\n",
       " 0.0,\n",
       " 0.2691163493110176,\n",
       " 0.1928641107699236,\n",
       " 0.07987294453601645,\n",
       " 0.18298742968715564,\n",
       " 0.0,\n",
       " 0.4638057117119989,\n",
       " 0.025105744056120205,\n",
       " 0.6061962027513541]"
      ]
     },
     "execution_count": 15,
     "metadata": {},
     "output_type": "execute_result"
    }
   ],
   "source": [
    "drawdowm"
   ]
  },
  {
   "cell_type": "code",
   "execution_count": 16,
   "metadata": {},
   "outputs": [
    {
     "data": {
      "text/plain": [
       "[0, 0, 0, 1, 2, 3, 4, 0, 1, 2, 3]"
      ]
     },
     "execution_count": 16,
     "metadata": {},
     "output_type": "execute_result"
    }
   ],
   "source": [
    "duration"
   ]
  },
  {
   "cell_type": "code",
   "execution_count": 17,
   "metadata": {},
   "outputs": [],
   "source": [
    "equity = []\n",
    "for i in range(10):\n",
    "    equity.append(1 + random.random())\n",
    "hwm = [0]\n",
    "drawdown = []\n",
    "duration = [0]\n",
    "for i in range(10):\n",
    "    cur_hwm = max(hwm[-1], equity[i])\n",
    "    hwm.append(cur_hwm)\n",
    "    drawdowm.append(0 if cur_hwm == equity[i] else hwm[-1] - equity[i])\n",
    "    duration.append(0 if drawdowm[-1] == 0 else duration[-1] + 1)"
   ]
  },
  {
   "cell_type": "code",
   "execution_count": 18,
   "metadata": {},
   "outputs": [
    {
     "data": {
      "text/plain": [
       "[0, 0, 0, 1, 2, 3, 0, 1, 2, 3, 4]"
      ]
     },
     "execution_count": 18,
     "metadata": {},
     "output_type": "execute_result"
    }
   ],
   "source": [
    "duration"
   ]
  },
  {
   "cell_type": "code",
   "execution_count": 19,
   "metadata": {},
   "outputs": [
    {
     "data": {
      "text/plain": [
       "[1.2652767939455547,\n",
       " 1.8759095733362905,\n",
       " 1.0415534828757465,\n",
       " 1.6388874061356642,\n",
       " 1.2450788350225994,\n",
       " 1.9112603483845136,\n",
       " 1.0960896989177598,\n",
       " 1.8910415045814477,\n",
       " 1.1296485161860885,\n",
       " 1.831872344180347]"
      ]
     },
     "execution_count": 19,
     "metadata": {},
     "output_type": "execute_result"
    }
   ],
   "source": [
    "equity"
   ]
  },
  {
   "cell_type": "code",
   "execution_count": null,
   "metadata": {},
   "outputs": [],
   "source": []
  }
 ],
 "metadata": {
  "kernelspec": {
   "display_name": "quant_env",
   "language": "python",
   "name": "python3"
  },
  "language_info": {
   "codemirror_mode": {
    "name": "ipython",
    "version": 3
   },
   "file_extension": ".py",
   "mimetype": "text/x-python",
   "name": "python",
   "nbconvert_exporter": "python",
   "pygments_lexer": "ipython3",
   "version": "3.9.16"
  },
  "orig_nbformat": 4
 },
 "nbformat": 4,
 "nbformat_minor": 2
}
